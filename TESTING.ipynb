{
 "cells": [
  {
   "cell_type": "markdown",
   "id": "d28b08e6",
   "metadata": {},
   "source": [
    "## testing testing. is anybody in there?"
   ]
  },
  {
   "cell_type": "code",
   "execution_count": null,
   "id": "1efaeef6",
   "metadata": {},
   "outputs": [],
   "source": [
    "# eval?"
   ]
  },
  {
   "cell_type": "code",
   "execution_count": 1,
   "id": "efa30d84",
   "metadata": {},
   "outputs": [
    {
     "name": "stderr",
     "output_type": "stream",
     "text": [
      "c:\\Users\\qtcc\\miniconda3\\envs\\genesis\\lib\\site-packages\\tqdm\\auto.py:21: TqdmWarning: IProgress not found. Please update jupyter and ipywidgets. See https://ipywidgets.readthedocs.io/en/stable/user_install.html\n",
      "  from .autonotebook import tqdm as notebook_tqdm\n",
      "Map: 100%|██████████| 4/4 [00:00<00:00, 1000.43 examples/s]\n"
     ]
    }
   ],
   "source": [
    "from datasets import Dataset, load_dataset\n",
    "from pandas import *\n",
    "# fixing the way we read from the excel files\n",
    "def get_manipulation_questions(path = 'data/manipulation_tasks.xlsx'):\n",
    "    # makes the initial Dataset\n",
    "    xls = ExcelFile(path)\n",
    "    df = xls.parse(xls.sheet_names[0])\n",
    "    questions = df['Text Question'].to_list()\n",
    "    rcg = df['red_cube_goal'].to_list()\n",
    "    bcg = df['blue_cube_goal'].to_list()\n",
    "    ycg = df['yellow_cube_goal'].to_list()\n",
    "    gcg = df['green_cube_goal'].to_list()\n",
    "    answers = []\n",
    "    for i in range(len(rcg)):\n",
    "        answers.append({'red_cube_goal':eval(rcg[i]),\n",
    "                        'blue_cube_goal':bcg[i],\n",
    "                        'yellow_cube_goal':ycg[i],\n",
    "                        'green_cube_goal':gcg[i]})\n",
    "    data = Dataset.from_dict({'question':questions,'answer':answers})\n",
    "\n",
    "    # does some other fucky thing idk\n",
    "    data = data.map(\n",
    "        lambda x: {  # type: ignore\n",
    "            \"prompt\": [\n",
    "                {\"role\": \"system\", \"content\": 'SYSTEM_PROMPT'},\n",
    "                {\"role\": \"user\", \"content\": x[\"question\"]},\n",
    "            ],\n",
    "            \"answer\":(x[\"answer\"]),\n",
    "        }\n",
    "    )  # type: ignore\n",
    "    return data  # type: ignore\n",
    "data = get_manipulation_questions()"
   ]
  },
  {
   "cell_type": "code",
   "execution_count": 2,
   "id": "31ee931e",
   "metadata": {},
   "outputs": [
    {
     "name": "stdout",
     "output_type": "stream",
     "text": [
      "{'blue_cube_goal': '(-0.25,0.25,0.02)', 'green_cube_goal': '(-0.25,0.5,0.02)', 'red_cube_goal': [0.0, 0.375, 0.02], 'yellow_cube_goal': '(0.25,0.5,0.02)'}\n"
     ]
    }
   ],
   "source": [
    "print(data[0]['answer'])"
   ]
  },
  {
   "cell_type": "code",
   "execution_count": 1,
   "id": "faa6edec",
   "metadata": {},
   "outputs": [
    {
     "name": "stdout",
     "output_type": "stream",
     "text": [
      "\n",
      "move_x(0.25)\n",
      "move_y(0.25)\n",
      "move_z(0.02)\n",
      "gripper_close()\n",
      "move_x(0)\n",
      "move_y(0.375)\n",
      "move_z(0.02)\n",
      "move_z(-0.4)\n",
      "gripper_open()\n",
      "move_z(0)\n"
     ]
    }
   ],
   "source": [
    "# something about the processing\n",
    "thing = '<answer>\\nmove_x(0.25)\\nmove_y(0.25)\\nmove_z(0.02)\\ngripper_close()\\nmove_x(0)\\nmove_y(0.375)\\nmove_z(0.02)\\nmove_z(-0.4)\\ngripper_open()\\nmove_z(0)\\n</answer>'\n",
    "def find_between(s, start, end):\n",
    "    plan = ''\n",
    "    try:\n",
    "        plan = s.split(start)[1].split(end)[0]\n",
    "    except:\n",
    "        plan = ''\n",
    "    return plan\n",
    "another_thing = find_between(thing,'<answer>','</answer>')\n",
    "for line in another_thing.splitlines():\n",
    "    print(line)"
   ]
  },
  {
   "cell_type": "code",
   "execution_count": 2,
   "id": "9fc8427f",
   "metadata": {},
   "outputs": [
    {
     "name": "stdout",
     "output_type": "stream",
     "text": [
      "\n",
      "move_x(0.25)\n",
      "move_y(0.125)\n",
      "move_z(0.02)\n",
      "gripper_close()\n",
      "move_z(0.48)  # Adjust the z-position to move closer to the target\n",
      "move_x(0)\n",
      "move_y(0.375)  # Adjust as needed to reach the y-axis target\n",
      "gripper_open()\n",
      "move_z(0.02)  # Adjust the z-position back to avoid collisions\n"
     ]
    }
   ],
   "source": [
    "# meow\n",
    "thing = '<answer>\\nmove_x(0.25)\\nmove_y(0.125)\\nmove_z(0.02)\\ngripper_close()\\nmove_z(0.48)  # Adjust the z-position to move closer to the target\\nmove_x(0)\\nmove_y(0.375)  # Adjust as needed to reach the y-axis target\\ngripper_open()\\nmove_z(0.02)  # Adjust the z-position back to avoid collisions\\n</answer>'\n",
    "def find_between(s, start, end):\n",
    "    plan = ''\n",
    "    try:\n",
    "        plan = s.split(start)[1].split(end)[0]\n",
    "    except:\n",
    "        plan = ''\n",
    "    return plan\n",
    "another_thing = find_between(thing,'<answer>','</answer>')\n",
    "for line in another_thing.splitlines():\n",
    "    print(line)"
   ]
  },
  {
   "cell_type": "code",
   "execution_count": 25,
   "id": "2a2391b2",
   "metadata": {},
   "outputs": [
    {
     "name": "stderr",
     "output_type": "stream",
     "text": [
      "Map: 100%|██████████| 4/4 [00:00<00:00, 1333.11 examples/s]\n"
     ]
    },
    {
     "data": {
      "text/plain": [
       "{'question': 'Take the block with a colour on the Canadian flag, and move it to the position (0,0.375,0.02). ',\n",
       " 'answer': {'blue_cube_goal': '(-0.25,0.25,0,0.02)',\n",
       "  'green_cube_goal': '(-0.25,0.5,0,0.02)',\n",
       "  'red_cube_goal': '(0,0.375,0.02)',\n",
       "  'yellow_cube_goal': '(0.25,0.5,0,0.02)'},\n",
       " 'prompt': [{'content': 'You are a helpful assistant that will help me control a robotic manipulator to accomplish specific tasks. We have a setup including a basic robotic arm bolted to a table. On the table is a set of four coloured blocks (red, blue, yellow, and green) that I will want you to help move around. \\n\\nI will give you a specific task to accomplish, along with a list of action primitives that you have the ability to execute.\\n\\nEach action primitive is specified by a Python-like function header. I will describe each one and what they do in detail below. Some primitives also have a parameter, which specifies the degree to which that primitive should be executed.  \\n\\nThe robotic arm you will be controlling is a Emiko Panda Franka arm. You will only be controlling the position of the end effector and the grasp of the gripper.\\n\\nYour goal is to make a plan to accomplish the goal, which should be a sequential list of the action primitives I give you in order to accomplish the goal. The environment is a robotic manipulator environment, which means to move blocks, you will need to move to the appropriate block, grab it, move elsewhere, and then release it. Also consider that blocks could collide with each other if they are in the same place. Carefully consider the correct sequence of actions you will need to take in order to complete the task.\\n \\n*** Formatting***\\nRespond in the following format:\\n<reasoning>\\n...\\n</reasoning>\\n<answer>\\n...\\n</answer>\\nWhere the action primitives are listed one by one, each on its own line, in between the answer tags.\\n\\n*** Action Primitives ***\\nmove_x(param): This moves the position of the end-effector by param cm from its current position in the x-axis.\\nmove_y(param): This moves the position of the end-effector by param cm from its current position in the y-axis. \\nmove_z(param): This moves the position of the end-effector by param cm from its current position in the z-axis. \\ngripper_open(): This opens the gripper.\\ngripper_close(): This closes the gripper. \\n\\n*** Observation ***\\nHere is the initial position of each block and the end effector:\\nRed Cube: 0.25,0.25,0.02\\nBlue Cube: -0.25,0.25,0.02\\nYellow Cube: 0.25,0.5,0.02\\nGreen Cube: -0.25,0.5,0.02\\nEnd Effector: 0, 0.25, 1\\nNote - the arm itself is at 0,0,0. Assume that the x-axis determines left and right, the y-axis top and bottom, and the z-axis up and down. \\n\\n*** Example ***\\nHere is an example task, reasoning chain, and output plan. \\nTask: Move the block in the bottom-left to the middle of the red and yellow cubes.\\nReasoning: First, I need to determine which block is in the bottom-left. I can see from the observations that the blue cube is the furthest to the left and closest to me, which means it is in the bottom-left. Next, I need to determine where to put it. I can see that red and yellow cubes are at (0.25,0.25,0.02) and (0.25,0.5,0.02) respectively, which means I need to put the blue cube at the point at the middle between the cubes, which is at (0.25,0.375,0.02). Now, the first thing I need to do is navigate the end effector to the blue cube and pick it up. The end effector is currently at (0, 0.25, 1) so to move it to the blue cube at (-0.25,0.25,0.02) I need to move it in the x and z directions with the move_x and move_z commands. First, I should do move_x(-0.25) and then move_z(-0.98). Then, I can grasp the cube with gripper_close(), and move it to the new location at (0.25,0.375,0.02). To do this, I can do move_x(0.5), then move_y(0.125). Then, I can ungrasp the cube with gripper_open() and I will be done. I am ready to output the plan.\\nPlan:\\nmove_x(-0.25)\\nmove_z(-0.98)\\ngripper_close()\\nmove_x(0.5)\\nmove_y(0.125)\\ngripper_open()\\n',\n",
       "   'role': 'system'},\n",
       "  {'content': 'Take the block with a colour on the Canadian flag, and move it to the position (0,0.375,0.02). ',\n",
       "   'role': 'user'}]}"
      ]
     },
     "execution_count": 25,
     "metadata": {},
     "output_type": "execute_result"
    }
   ],
   "source": [
    "# getting our dataset format to work the same \n",
    "from pandas import *\n",
    "from datasets import Dataset\n",
    "\n",
    "with open(\"prompts/base_manip_prompt.txt\",\"r\") as f:\n",
    "    SYSTEM_PROMPT = f.read()\n",
    "def get_manipulation_questions(path = 'data/manipulation_tasks.xlsx'):\n",
    "    # makes the initial Dataset\n",
    "    xls = ExcelFile(path)\n",
    "    df = xls.parse(xls.sheet_names[0])\n",
    "    questions = df['Text Question'].to_list()\n",
    "    rcg = df['red_cube_goal'].to_list()\n",
    "    bcg = df['blue_cube_goal'].to_list()\n",
    "    ycg = df['yellow_cube_goal'].to_list()\n",
    "    gcg = df['green_cube_goal'].to_list()\n",
    "    answers = []\n",
    "    for i in range(len(rcg)):\n",
    "        answers.append({'red_cube_goal':rcg[i],\n",
    "                        'blue_cube_goal':bcg[i],\n",
    "                        'yellow_cube_goal':ycg[i],\n",
    "                        'green_cube_goal':gcg[i]})\n",
    "    data = Dataset.from_dict({'question':questions,'answer':answers})\n",
    "\n",
    "    # does some other fucky thing idk\n",
    "    data = data.map(\n",
    "        lambda x: {  # type: ignore\n",
    "            \"prompt\": [\n",
    "                {\"role\": \"system\", \"content\": SYSTEM_PROMPT},\n",
    "                {\"role\": \"user\", \"content\": x[\"question\"]},\n",
    "            ],\n",
    "            \"answer\":(x[\"answer\"]),\n",
    "        }\n",
    "    )  # type: ignore\n",
    "    return data  # type: ignore\n",
    "dataset = get_manipulation_questions()\n",
    "dataset[0]"
   ]
  },
  {
   "cell_type": "code",
   "execution_count": 2,
   "id": "e252c43a",
   "metadata": {},
   "outputs": [],
   "source": [
    "# stupid import shit i gotta test\n",
    "from genesis_env import FrankaManipEnv\n"
   ]
  }
 ],
 "metadata": {
  "kernelspec": {
   "display_name": "genesis",
   "language": "python",
   "name": "python3"
  },
  "language_info": {
   "codemirror_mode": {
    "name": "ipython",
    "version": 3
   },
   "file_extension": ".py",
   "mimetype": "text/x-python",
   "name": "python",
   "nbconvert_exporter": "python",
   "pygments_lexer": "ipython3",
   "version": "3.9.21"
  }
 },
 "nbformat": 4,
 "nbformat_minor": 5
}
