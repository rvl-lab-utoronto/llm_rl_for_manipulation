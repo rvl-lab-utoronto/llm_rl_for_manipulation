{
 "cells": [
  {
   "cell_type": "markdown",
   "metadata": {},
   "source": [
    "## top of testing notebook\n",
    "\n",
    "Howdy!"
   ]
  },
  {
   "cell_type": "code",
   "execution_count": 1,
   "metadata": {},
   "outputs": [
    {
     "name": "stderr",
     "output_type": "stream",
     "text": [
      "/root/miniconda3/envs/rl_manip_2/lib/python3.9/site-packages/tqdm/auto.py:21: TqdmWarning: IProgress not found. Please update jupyter and ipywidgets. See https://ipywidgets.readthedocs.io/en/stable/user_install.html\n",
      "  from .autonotebook import tqdm as notebook_tqdm\n",
      "Loading checkpoint shards: 100%|██████████| 2/2 [00:02<00:00,  1.31s/it]\n"
     ]
    },
    {
     "name": "stdout",
     "output_type": "stream",
     "text": [
      "\n"
     ]
    }
   ],
   "source": [
    "from transformers import AutoTokenizer, AutoModelForCausalLM\n",
    "\n",
    "tokenizer = AutoTokenizer.from_pretrained(\"saishshinde15/TBH.AI_Base_Reasoning\")\n",
    "model = AutoModelForCausalLM.from_pretrained(\"saishshinde15/TBH.AI_Base_Reasoning\")\n",
    "model.to('cuda')\n",
    "print('')"
   ]
  },
  {
   "cell_type": "code",
   "execution_count": 1,
   "metadata": {},
   "outputs": [
    {
     "name": "stderr",
     "output_type": "stream",
     "text": [
      "/root/miniconda3/envs/rl_manip_2/lib/python3.9/site-packages/tqdm/auto.py:21: TqdmWarning: IProgress not found. Please update jupyter and ipywidgets. See https://ipywidgets.readthedocs.io/en/stable/user_install.html\n",
      "  from .autonotebook import tqdm as notebook_tqdm\n",
      "`low_cpu_mem_usage` was None, now default to True since model is quantized.\n",
      "Loading checkpoint shards: 100%|██████████| 2/2 [00:00<00:00,  3.26it/s]\n"
     ]
    },
    {
     "name": "stdout",
     "output_type": "stream",
     "text": [
      "\n"
     ]
    }
   ],
   "source": [
    "# R1 Llama Distil 8B FP8 \n",
    "from transformers import AutoTokenizer, AutoModelForCausalLM\n",
    "\n",
    "tokenizer = AutoTokenizer.from_pretrained(\"JamAndTeaStudios/DeepSeek-R1-Distill-Llama-8B-FP8-Dynamic\")\n",
    "model = AutoModelForCausalLM.from_pretrained(\"JamAndTeaStudios/DeepSeek-R1-Distill-Llama-8B-FP8-Dynamic\")\n",
    "model.to('cuda')\n",
    "print('')"
   ]
  },
  {
   "cell_type": "code",
   "execution_count": 1,
   "metadata": {},
   "outputs": [
    {
     "name": "stderr",
     "output_type": "stream",
     "text": [
      "/root/miniconda3/envs/rl_manip_2/lib/python3.9/site-packages/tqdm/auto.py:21: TqdmWarning: IProgress not found. Please update jupyter and ipywidgets. See https://ipywidgets.readthedocs.io/en/stable/user_install.html\n",
      "  from .autonotebook import tqdm as notebook_tqdm\n",
      "`low_cpu_mem_usage` was None, now default to True since model is quantized.\n"
     ]
    },
    {
     "name": "stdout",
     "output_type": "stream",
     "text": [
      "\n"
     ]
    }
   ],
   "source": [
    "# Load model directly\n",
    "from transformers import AutoTokenizer, AutoModelForCausalLM\n",
    "\n",
    "tokenizer = AutoTokenizer.from_pretrained(\"unsloth/DeepScaleR-1.5B-Preview-bnb-4bit\")\n",
    "model = AutoModelForCausalLM.from_pretrained(\"unsloth/DeepScaleR-1.5B-Preview-bnb-4bit\")\n",
    "model.to('cuda')\n",
    "print('')"
   ]
  },
  {
   "cell_type": "code",
   "execution_count": 1,
   "metadata": {},
   "outputs": [
    {
     "name": "stderr",
     "output_type": "stream",
     "text": [
      "/root/miniconda3/envs/rl_manip_2/lib/python3.9/site-packages/tqdm/auto.py:21: TqdmWarning: IProgress not found. Please update jupyter and ipywidgets. See https://ipywidgets.readthedocs.io/en/stable/user_install.html\n",
      "  from .autonotebook import tqdm as notebook_tqdm\n",
      "Loading checkpoint shards: 100%|██████████| 2/2 [00:00<00:00,  8.73it/s]\n"
     ]
    },
    {
     "name": "stdout",
     "output_type": "stream",
     "text": [
      "\n"
     ]
    }
   ],
   "source": [
    "# testing some other smaller model \n",
    "from transformers import AutoTokenizer, AutoModelForCausalLM\n",
    "\n",
    "# Load model directly\n",
    "from transformers import AutoTokenizer, AutoModelForCausalLM\n",
    "tokenizer = AutoTokenizer.from_pretrained(\"agentica-org/DeepScaleR-1.5B-Preview\")\n",
    "model = AutoModelForCausalLM.from_pretrained(\"agentica-org/DeepScaleR-1.5B-Preview\")\n",
    "model.to('cuda')\n",
    "print('')"
   ]
  },
  {
   "cell_type": "code",
   "execution_count": 1,
   "metadata": {},
   "outputs": [
    {
     "name": "stderr",
     "output_type": "stream",
     "text": [
      "/root/miniconda3/envs/rl_manip_2/lib/python3.9/site-packages/tqdm/auto.py:21: TqdmWarning: IProgress not found. Please update jupyter and ipywidgets. See https://ipywidgets.readthedocs.io/en/stable/user_install.html\n",
      "  from .autonotebook import tqdm as notebook_tqdm\n",
      "Sliding Window Attention is enabled but not implemented for `sdpa`; unexpected results may be encountered.\n"
     ]
    },
    {
     "name": "stdout",
     "output_type": "stream",
     "text": [
      "\n"
     ]
    }
   ],
   "source": [
    "# testing some other smaller model \n",
    "from transformers import AutoTokenizer, AutoModelForCausalLM\n",
    "\n",
    "# Load model directly\n",
    "from transformers import AutoTokenizer, AutoModelForCausalLM\n",
    "tokenizer = AutoTokenizer.from_pretrained(\"deepseek-ai/DeepSeek-R1-Distill-Qwen-1.5B\")\n",
    "model = AutoModelForCausalLM.from_pretrained(\"deepseek-ai/DeepSeek-R1-Distill-Qwen-1.5B\")\n",
    "model.to('cuda')\n",
    "print('')"
   ]
  },
  {
   "cell_type": "code",
   "execution_count": null,
   "metadata": {},
   "outputs": [],
   "source": [
    "# Main planning script\n",
    "import time\n",
    "state_path = 'prompts/base_start_state.txt'\n",
    "goal_path = 'prompts/task_descriptions/quad_task4.txt'\n",
    "\n",
    "# loads prompt preamble\n",
    "with open(\"prompts/base_manip_prompt.txt\",\"r\") as f:\n",
    "    input_sequence = f.read()\n",
    "\n",
    "# adds current state to the prompt\n",
    "input_sequence += '*** Current State Information ***'\n",
    "with open(state_path,\"r\") as f:\n",
    "    state_sequence = f.read()\n",
    "input_sequence += state_sequence\n",
    "\n",
    "# adds goal to the prompt \n",
    "input_sequence += '*** Goal Information ***'\n",
    "with open(goal_path,\"r\") as f:\n",
    "    goal_sequence = f.read()\n",
    "input_sequence += goal_sequence\n",
    "\n",
    "# adds appendix to prompt\n",
    "input_sequence += 'Now begin to make the plan. \\n<think>'\n",
    "\n",
    "# generates thing\n",
    "model_inputs = tokenizer(input_sequence, return_tensors=\"pt\").to(\"cuda\")\n",
    "\n",
    "# Setting `max_new_tokens` allows you to control the maximum length\n",
    "start_time = time.time()\n",
    "generated_ids = model.generate(**model_inputs, max_new_tokens=2000)\n",
    "\n",
    "output_string = tokenizer.batch_decode(generated_ids, skip_special_tokens=True)[0]\n",
    "print('Generation Time:',time.time()-start_time)\n",
    "print(output_string)"
   ]
  }
 ],
 "metadata": {
  "kernelspec": {
   "display_name": "rl_manip_2",
   "language": "python",
   "name": "python3"
  },
  "language_info": {
   "codemirror_mode": {
    "name": "ipython",
    "version": 3
   },
   "file_extension": ".py",
   "mimetype": "text/x-python",
   "name": "python",
   "nbconvert_exporter": "python",
   "pygments_lexer": "ipython3",
   "version": "3.9.21"
  }
 },
 "nbformat": 4,
 "nbformat_minor": 2
}
