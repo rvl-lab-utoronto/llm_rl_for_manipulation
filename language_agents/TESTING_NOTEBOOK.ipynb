{
 "cells": [
  {
   "cell_type": "markdown",
   "metadata": {},
   "source": [
    "## top of testing notebook\n",
    "\n",
    "Howdy!"
   ]
  },
  {
   "cell_type": "code",
   "execution_count": 1,
   "metadata": {},
   "outputs": [
    {
     "name": "stderr",
     "output_type": "stream",
     "text": [
      "/root/miniconda3/envs/rl_manip_2/lib/python3.9/site-packages/tqdm/auto.py:21: TqdmWarning: IProgress not found. Please update jupyter and ipywidgets. See https://ipywidgets.readthedocs.io/en/stable/user_install.html\n",
      "  from .autonotebook import tqdm as notebook_tqdm\n",
      "`low_cpu_mem_usage` was None, now default to True since model is quantized.\n"
     ]
    }
   ],
   "source": [
    "# Load model directly\n",
    "from transformers import AutoTokenizer, AutoModelForCausalLM\n",
    "\n",
    "tokenizer = AutoTokenizer.from_pretrained(\"unsloth/DeepScaleR-1.5B-Preview-bnb-4bit\")\n",
    "model = AutoModelForCausalLM.from_pretrained(\"unsloth/DeepScaleR-1.5B-Preview-bnb-4bit\")"
   ]
  },
  {
   "cell_type": "code",
   "execution_count": 1,
   "metadata": {},
   "outputs": [
    {
     "name": "stderr",
     "output_type": "stream",
     "text": [
      "/root/miniconda3/envs/craftax/lib/python3.9/site-packages/tqdm/auto.py:21: TqdmWarning: IProgress not found. Please update jupyter and ipywidgets. See https://ipywidgets.readthedocs.io/en/stable/user_install.html\n",
      "  from .autonotebook import tqdm as notebook_tqdm\n",
      "Downloading shards: 100%|██████████| 2/2 [03:44<00:00, 112.01s/it]\n",
      "Loading checkpoint shards: 100%|██████████| 2/2 [00:00<00:00, 10.29it/s]\n"
     ]
    },
    {
     "name": "stdout",
     "output_type": "stream",
     "text": [
      "\n"
     ]
    }
   ],
   "source": [
    "# testing some other smaller model \n",
    "from transformers import AutoTokenizer, AutoModelForCausalLM\n",
    "\n",
    "# Load model directly\n",
    "from transformers import AutoTokenizer, AutoModelForCausalLM\n",
    "tokenizer = AutoTokenizer.from_pretrained(\"agentica-org/DeepScaleR-1.5B-Preview\")\n",
    "model = AutoModelForCausalLM.from_pretrained(\"agentica-org/DeepScaleR-1.5B-Preview\")\n",
    "model.to('cuda')\n",
    "print('')"
   ]
  },
  {
   "cell_type": "code",
   "execution_count": 2,
   "metadata": {},
   "outputs": [
    {
     "name": "stderr",
     "output_type": "stream",
     "text": [
      "You shouldn't move a model that is dispatched using accelerate hooks.\n"
     ]
    },
    {
     "name": "stdout",
     "output_type": "stream",
     "text": [
      "\n"
     ]
    }
   ],
   "source": [
    "model.to('cuda')\n",
    "print('')"
   ]
  },
  {
   "cell_type": "code",
   "execution_count": 4,
   "metadata": {},
   "outputs": [
    {
     "name": "stdout",
     "output_type": "stream",
     "text": [
      "You are a helpful assistant that tells me the next immediate task to do in a Minecraft-like environment. I will give you a specific task to accomplish, along with a list of action primitives that you have the ability to execute. In addition, you will have a textual representation of the surrounding environment and your inventory. Your goal is to make a plan to accomplish the goal, which should be a sequential list of the action primitives I give you in order to accomplish the goal. Please reason out your answer, and then give a list of the action primitives at the very end separated by spaces. You can assume the environment acts similarly to Minecraft unless otherwise specified. I will withhold specific details of your environment. You should use your common sense reasoning and knowledge about similar games (like Minecraft). Carefully consider the correct sequence of actions you will need to take in order to complete the task. \n",
      "\n",
      "*** Action Primitives ***\n",
      "EXPLORE: Moves around the environment randomly, so you are able to see things in the environment you cannot yet see. \n",
      "MINE_TREE: If you can see a tree, navigates to it and breaks it. This will only do this once, so if you see multiple trees you wish to mine, you should put this in the plan successively as many times as you want to collect blocks. \n",
      "CRAFT_PICKAXE: Crafts a pickaxe if it is possible to do so. This will craft the best possible pickaxe given the materials in your inventory. If there is a building table nearby, this will move to face it before attempting the craft.\n",
      "CRAFT_SWORD: Crafts a sword if it is possible to do so. This will craft the best possible sword given the materials in your inventory. If there is a building table nearby, this will move to face it before attempting the craft.\n",
      "BUILD_FURNACE: Builds a furnace if it is possible to do so. \n",
      "BUILD_TABLE: Builds a crafting table if it is possible to do so. These are needed to craft any item.\n",
      "\n",
      "*** Current Game State ***\n",
      "The map section tells you how many of a given block are in your near vicinity, and the inventory section tells you what is currently in your inventory.\n",
      "* Map *\n",
      "Tree: 6\n",
      "Stone: 19\n",
      "Water: 0\n",
      "Coal: 0\n",
      "Iron: 0\n",
      "Diamond: 0\n",
      "Table: 0\n",
      "Furnace: 0\n",
      "Lava: 0\n",
      "Cow: 0\n",
      "Skeleton: 0\n",
      "Zombie: 0\n",
      "\n",
      "* Inventory *\n",
      "Wood: 0\n",
      "Stone: 0\n",
      "Coal: 0\n",
      "Iron: 0\n",
      "Diamond: 0\n",
      "Sapphire: 0\n",
      "Wood Pixaxe: 0\n",
      "Iron Pixaxe: 0\n",
      "\n",
      "Direction: up\n",
      "Light: 0.7969252467155457\n",
      "Is Sleeping: False\n",
      "\n",
      "Lastly, a short note about formatting. Reason through the best plan to make, beginning with \n",
      "<think> and ending with </think>. After the reasoning plan, list the action primitives required to solve the task, in order, separated by a space, on the very last line. \n",
      "\n",
      "Now begin to make the plan. Your task is to: create a wooden pickaxe. \n",
      "<think>\n",
      "\n",
      "The task is to create a wooden pickaxe. \n",
      "\n",
      "First, I need to explore the area to find the tree where the pickaxe will be placed. Then, I can move to the tree to mine the wood, which will be used to craft the pickaxe. After that, I will move to the building table to face the pickaxe and craft it. Finally, I need to place the pickaxe on the table. \n",
      "\n",
      "The plan should involve exploring the area, mining the wood, crafting the pickaxe, moving to the table, and placing it. \n",
      "\n",
      "The sequence would be:\n",
      "\n",
      "1. Explore to find the tree.\n",
      "2. Move to the tree to mine wood.\n",
      "3. Move to the building table.\n",
      "4. Face the pickaxe.\n",
      "5. Craft the pickaxe.\n",
      "6. Move to the table.\n",
      "7. Place the pickaxe.\n",
      "\n",
      "The action primitives needed are: Explore, Mine Tree, Move to Tree, Mine Wood, Move to Table, Craft Pickaxe, Move to Table, Place Pickaxe.\n",
      "\n",
      "The final output should be the list of action primitives separated by spaces.\n",
      "\n",
      "```\n"
     ]
    }
   ],
   "source": [
    "with open(\"prompt.txt\",\"r\") as f:\n",
    "    input_sequence = f.read()\n",
    "task = \"create a wooden pickaxe\"\n",
    "input_sequence += task + '. \\n<think>'\n",
    "model_inputs = tokenizer(input_sequence, return_tensors=\"pt\").to(\"cuda\")\n",
    "\n",
    "# Setting `max_new_tokens` allows you to control the maximum length\n",
    "\n",
    "generated_ids = model.generate(**model_inputs, max_new_tokens=2000)\n",
    "\n",
    "output_string = tokenizer.batch_decode(generated_ids, skip_special_tokens=True)[0]\n",
    "print(output_string)"
   ]
  },
  {
   "cell_type": "code",
   "execution_count": 1,
   "metadata": {},
   "outputs": [
    {
     "name": "stderr",
     "output_type": "stream",
     "text": [
      "/root/miniconda3/envs/craftax/lib/python3.9/site-packages/tqdm/auto.py:21: TqdmWarning: IProgress not found. Please update jupyter and ipywidgets. See https://ipywidgets.readthedocs.io/en/stable/user_install.html\n",
      "  from .autonotebook import tqdm as notebook_tqdm\n",
      "`low_cpu_mem_usage` was None, now default to True since model is quantized.\n",
      "Loading checkpoint shards: 100%|██████████| 2/2 [00:00<00:00,  4.77it/s]\n"
     ]
    },
    {
     "name": "stdout",
     "output_type": "stream",
     "text": [
      "\n"
     ]
    }
   ],
   "source": [
    "# Load model directly\n",
    "from transformers import AutoTokenizer, AutoModelForCausalLM\n",
    "\n",
    "tokenizer = AutoTokenizer.from_pretrained(\"JamAndTeaStudios/DeepSeek-R1-Distill-Llama-8B-FP8-Dynamic\")\n",
    "model = AutoModelForCausalLM.from_pretrained(\"JamAndTeaStudios/DeepSeek-R1-Distill-Llama-8B-FP8-Dynamic\")\n",
    "model.to('cuda')\n",
    "print('')"
   ]
  },
  {
   "cell_type": "code",
   "execution_count": 2,
   "metadata": {},
   "outputs": [
    {
     "name": "stderr",
     "output_type": "stream",
     "text": [
      "Setting `pad_token_id` to `eos_token_id`:None for open-end generation.\n"
     ]
    },
    {
     "name": "stdout",
     "output_type": "stream",
     "text": [
      "You are a helpful assistant that tells me the next immediate task to do in a Minecraft-like environment. I will give you a specific task to accomplish, along with a list of action primitives that you have the ability to execute. In addition, you will have a textual representation of the surrounding environment and your inventory. Your goal is to make a plan to accomplish the goal, which should be a sequential list of the action primitives I give you in order to accomplish the goal. Please reason out your answer, and then give a list of the action primitives at the very end separated by spaces. You can assume the environment acts similarly to Minecraft unless otherwise specified. I will withhold specific details of your environment. You should use your common sense reasoning and knowledge about similar games (like Minecraft). Carefully consider the correct sequence of actions you will need to take in order to complete the task. \n",
      "\n",
      "*** Action Primitives ***\n",
      "EXPLORE: Moves around the environment randomly, so you are able to see things in the environment you cannot yet see. \n",
      "MINE_TREE: If you can see a tree, navigates to it and breaks it. This will only do this once, so if you see multiple trees you wish to mine, you should put this in the plan successively as many times as you want to collect blocks. \n",
      "CRAFT_PICKAXE: Crafts a pickaxe if it is possible to do so. This will craft the best possible pickaxe given the materials in your inventory. If there is a building table nearby, this will move to face it before attempting the craft.\n",
      "CRAFT_SWORD: Crafts a sword if it is possible to do so. This will craft the best possible sword given the materials in your inventory. If there is a building table nearby, this will move to face it before attempting the craft.\n",
      "BUILD_FURNACE: Builds a furnace if it is possible to do so. \n",
      "BUILD_TABLE: Builds a crafting table if it is possible to do so. These are needed to craft any item.\n",
      "\n",
      "*** Current Game State ***\n",
      "The map section tells you how many of a given block are in your near vicinity, and the inventory section tells you what is currently in your inventory.\n",
      "* Map *\n",
      "Tree: 6\n",
      "Stone: 19\n",
      "Water: 0\n",
      "Coal: 0\n",
      "Iron: 0\n",
      "Diamond: 0\n",
      "Table: 0\n",
      "Furnace: 0\n",
      "Lava: 0\n",
      "Cow: 0\n",
      "Skeleton: 0\n",
      "Zombie: 0\n",
      "\n",
      "* Inventory *\n",
      "Wood: 0\n",
      "Stone: 0\n",
      "Coal: 0\n",
      "Iron: 0\n",
      "Diamond: 0\n",
      "Sapphire: 0\n",
      "Wood Pixaxe: 0\n",
      "Iron Pixaxe: 0\n",
      "\n",
      "Direction: up\n",
      "Light: 0.7969252467155457\n",
      "Is Sleeping: False\n",
      "\n",
      "Lastly, a short note about formatting. Reason through the best plan to make, beginning with \n",
      "<think> and ending with </think>. After the reasoning plan, list the action primitives required to solve the task, in order, separated by a space, on the very last line. \n",
      "\n",
      "Now begin to make the plan. Your task is to: create a wooden pickaxe. \n",
      "<think>\n",
      "Okay, so I need to create a wooden pickaxe in Minecraft. Let me think about how to do this step by step. First, I remember that crafting a pickaxe requires wood and sticks. I don't have any wood or sticks in my inventory right now, so I need to gather those.\n",
      "\n",
      "I should start by exploring my surroundings to find trees. I have some trees on the map, so I can look around to find one. Once I find a tree, I can cut it down. I'll use the MINE_TREE action to break the tree. After cutting down the tree, I'll get some wood. I'll need to collect enough wood to make a pickaxe.\n",
      "\n",
      "Wait, how many planks do I need? I think a pickaxe requires three planks and a stick. So I need to cut at least three trees to get the wood. Alternatively, if I can find a tree with multiple wood blocks, maybe I can get enough from one tree. But to be safe, I'll plan to cut multiple trees.\n",
      "\n",
      "After gathering the wood, I need sticks. Sticks can be obtained by breaking wooden slabs or planks. I can use the MINE_TREE action again on any remaining trees to get more wood, and then break the planks to get sticks. I'll need six sticks for the pickaxe, so I'll have to collect enough.\n",
      "\n",
      "Once I have enough wood and sticks, I can go to a crafting table. I don't have a crafting table yet, so I need to build one. I'll use the BUILD_TABLE action to create it. After that, I can craft the pickaxe using the CRAFT_PICKAXE action. I should have all the materials now, so the crafting should work out.\n",
      "\n",
      "Let me outline the steps: first, explore to find trees, mine them for wood, collect sticks from the planks, build a crafting table, and then craft the pickaxe. I should make sure to do each step in order and collect enough materials before moving on to the next step.\n",
      "</think>\n",
      "\n",
      "To create a wooden pickaxe, follow these steps:\n",
      "\n",
      "1. **Explore** to locate nearby trees.\n",
      "2. **MINE_TREE** on each tree to obtain wood.\n",
      "3. **MINE_TREE** again on any remaining trees to gather more wood.\n",
      "4. **BUILD_TABLE** to craft a table if you don't have one.\n",
      "5. **CRAFT_PICKAXE** using the collected wood and sticks.\n",
      "\n",
      "Action primitives: EXPLORE MINE_TREE BUILD_TABLE CRAFT_PICKAXE\n"
     ]
    }
   ],
   "source": [
    "with open(\"prompt.txt\",\"r\") as f:\n",
    "    input_sequence = f.read()\n",
    "task = \"create a wooden pickaxe\"\n",
    "input_sequence += task + '. \\n<think>'\n",
    "model_inputs = tokenizer(input_sequence, return_tensors=\"pt\").to(\"cuda\")\n",
    "\n",
    "# Setting `max_new_tokens` allows you to control the maximum length\n",
    "\n",
    "generated_ids = model.generate(**model_inputs, max_new_tokens=2000)\n",
    "\n",
    "output_string = tokenizer.batch_decode(generated_ids, skip_special_tokens=True)[0]\n",
    "print(output_string)"
   ]
  },
  {
   "cell_type": "code",
   "execution_count": 6,
   "metadata": {},
   "outputs": [
    {
     "name": "stdout",
     "output_type": "stream",
     "text": [
      "You are a helpful assistant that tells me the next immediate task to do in a Minecraft-like environment. I will give you a specific task to accomplish, along with a list of action primitives that you have the ability to execute. In addition, you will have a textual representation of the surrounding environment and your inventory. Your goal is to make a plan to accomplish the goal, which should be a sequential list of the action primitives I give you in order to accomplish the goal. Please reason out your answer, and then give a list of the action primitives at the very end separated by spaces. You can assume the environment acts similarly to Minecraft unless otherwise specified. I will withhold specific details of your environment. You should use your common sense reasoning and knowledge about similar games (like Minecraft). Carefully consider the correct sequence of actions you will need to take in order to complete the task. \n",
      "\n",
      "*** Action Primitives ***\n",
      "EXPLORE: Moves around the environment randomly, so you are able to see things in the environment you cannot yet see. \n",
      "MINE_TREE: If you can see a tree, navigates to it and breaks it. This will only do this once, so if you see multiple trees you wish to mine, you should put this in the plan successively as many times as you want to collect blocks. \n",
      "CRAFT_PICKAXE: Crafts a pickaxe if it is possible to do so. This will craft the best possible pickaxe given the materials in your inventory. If there is a building table nearby, this will move to face it before attempting the craft.\n",
      "CRAFT_SWORD: Crafts a sword if it is possible to do so. This will craft the best possible sword given the materials in your inventory. If there is a building table nearby, this will move to face it before attempting the craft.\n",
      "BUILD_FURNACE: Builds a furnace if it is possible to do so. \n",
      "BUILD_TABLE: Builds a crafting table if it is possible to do so. These are needed to craft any item.\n",
      "\n",
      "Lastly, a short note about formatting. Reason through the best plan to make, beginning with \n",
      "<think> and ending with </think>. After the reasoning plan, list the action primitives required to solve the task, in order, separated by a space, on the very last line. \n",
      "\n",
      "Now begin to make the plan. Your task is to: create a wooden pickaxe. \n",
      "<think>\n",
      "Okay, so I need to create a wooden pickaxe in Minecraft. Let me think about how to approach this. First, I remember that crafting a pickaxe requires wood and sticks. I should check my inventory to see if I have any wood or sticks. If I don't, I'll need to gather them.\n",
      "\n",
      "I think the first step is to gather wood. In Minecraft, you can break trees to get wood. So I should look for a tree. Once I find one, I can use the MINE_TREE action to break it. That should give me some wood. After mining, I'll have wood in my inventory.\n",
      "\n",
      "Next, I need sticks. Sticks can be obtained by breaking wooden slabs or planks. So after mining the tree, I might need to break some of the resulting planks to get sticks. I can use the MINE_TREE action again on the planks if I have any left, or maybe I can break them with an axe once I have one.\n",
      "\n",
      "Wait, do I have an axe yet? If I don't, I might need to craft one first. But crafting an axe requires wood and gravel, so that might complicate things. Maybe I can proceed without an axe for now and focus on gathering sticks.\n",
      "\n",
      "Once I have enough sticks, I can go to a crafting table. I need to build a crafting table if I don't have one. So I should check if I have the materials to build one. Crafting tables require four planks, so if I have enough planks from the tree, I can build it using the BUILD_TABLE action.\n",
      "\n",
      "After having a crafting table, I can use it to craft the pickaxe. The pickaxe recipe in Minecraft requires one stick and two wooden slabs. So I need to make sure I have those components. If I don't have enough sticks, I might need to repeat the stick-gathering process.\n",
      "\n",
      "Once I have all the materials, I can use the CRAFT_PICKAXE action. It should craft the pickaxe automatically, using the best possible materials I have. I don't need to worry about the quality since the action will handle it.\n",
      "\n",
      "I should also consider the order of actions. Maybe I should first mine the tree, then gather sticks, build the crafting table if needed, and then craft the pickaxe. Let me outline the steps:\n",
      "\n",
      "1. Explore to find a tree.\n",
      "2. Mine the tree to get wood.\n",
      "3. Break planks or\n"
     ]
    }
   ],
   "source": [
    "print(\"You are a helpful assistant that tells me the next immediate task to do in a Minecraft-like environment. I will give you a specific task to accomplish, along with a list of action primitives that you have the ability to execute. In addition, you will have a textual representation of the surrounding environment and your inventory. Your goal is to make a plan to accomplish the goal, which should be a sequential list of the action primitives I give you in order to accomplish the goal. Please reason out your answer, and then give a list of the action primitives at the very end separated by spaces. You can assume the environment acts similarly to Minecraft unless otherwise specified. I will withhold specific details of your environment. You should use your common sense reasoning and knowledge about similar games (like Minecraft). Carefully consider the correct sequence of actions you will need to take in order to complete the task. \\n\\n*** Action Primitives ***\\nEXPLORE: Moves around the environment randomly, so you are able to see things in the environment you cannot yet see. \\nMINE_TREE: If you can see a tree, navigates to it and breaks it. This will only do this once, so if you see multiple trees you wish to mine, you should put this in the plan successively as many times as you want to collect blocks. \\nCRAFT_PICKAXE: Crafts a pickaxe if it is possible to do so. This will craft the best possible pickaxe given the materials in your inventory. If there is a building table nearby, this will move to face it before attempting the craft.\\nCRAFT_SWORD: Crafts a sword if it is possible to do so. This will craft the best possible sword given the materials in your inventory. If there is a building table nearby, this will move to face it before attempting the craft.\\nBUILD_FURNACE: Builds a furnace if it is possible to do so. \\nBUILD_TABLE: Builds a crafting table if it is possible to do so. These are needed to craft any item.\\n\\nLastly, a short note about formatting. Reason through the best plan to make, beginning with \\n<think> and ending with </think>. After the reasoning plan, list the action primitives required to solve the task, in order, separated by a space, on the very last line. \\n\\nNow begin to make the plan. Your task is to: create a wooden pickaxe. \\n<think>\\nOkay, so I need to create a wooden pickaxe in Minecraft. Let me think about how to approach this. First, I remember that crafting a pickaxe requires wood and sticks. I should check my inventory to see if I have any wood or sticks. If I don't, I'll need to gather them.\\n\\nI think the first step is to gather wood. In Minecraft, you can break trees to get wood. So I should look for a tree. Once I find one, I can use the MINE_TREE action to break it. That should give me some wood. After mining, I'll have wood in my inventory.\\n\\nNext, I need sticks. Sticks can be obtained by breaking wooden slabs or planks. So after mining the tree, I might need to break some of the resulting planks to get sticks. I can use the MINE_TREE action again on the planks if I have any left, or maybe I can break them with an axe once I have one.\\n\\nWait, do I have an axe yet? If I don't, I might need to craft one first. But crafting an axe requires wood and gravel, so that might complicate things. Maybe I can proceed without an axe for now and focus on gathering sticks.\\n\\nOnce I have enough sticks, I can go to a crafting table. I need to build a crafting table if I don't have one. So I should check if I have the materials to build one. Crafting tables require four planks, so if I have enough planks from the tree, I can build it using the BUILD_TABLE action.\\n\\nAfter having a crafting table, I can use it to craft the pickaxe. The pickaxe recipe in Minecraft requires one stick and two wooden slabs. So I need to make sure I have those components. If I don't have enough sticks, I might need to repeat the stick-gathering process.\\n\\nOnce I have all the materials, I can use the CRAFT_PICKAXE action. It should craft the pickaxe automatically, using the best possible materials I have. I don't need to worry about the quality since the action will handle it.\\n\\nI should also consider the order of actions. Maybe I should first mine the tree, then gather sticks, build the crafting table if needed, and then craft the pickaxe. Let me outline the steps:\\n\\n1. Explore to find a tree.\\n2. Mine the tree to get wood.\\n3. Break planks or\")"
   ]
  },
  {
   "cell_type": "code",
   "execution_count": 7,
   "metadata": {},
   "outputs": [
    {
     "name": "stdout",
     "output_type": "stream",
     "text": [
      "Loading Craftax-Classic textures from cache.\n",
      "Textures successfully loaded from cache.\n"
     ]
    },
    {
     "name": "stderr",
     "output_type": "stream",
     "text": [
      "/root/miniconda3/envs/craftax/lib/python3.9/site-packages/jax/_src/numpy/array_methods.py:68: UserWarning: Explicitly requested dtype <class 'jax.numpy.int64'> requested in astype is not available, and will be truncated to dtype int32. To enable more dtypes, set the jax_enable_x64 configuration option or the JAX_ENABLE_X64 shell environment variable. See https://github.com/google/jax#current-gotchas for more.\n",
      "  return lax_numpy.astype(arr, dtype, copy=copy, device=device)\n"
     ]
    },
    {
     "name": "stdout",
     "output_type": "stream",
     "text": [
      "Loading Craftax textures from cache.\n",
      "Textures successfully loaded from cache.\n",
      "Map:\n",
      "Tree: 6\n",
      "Stone: 19\n",
      "Water: 0\n",
      "Coal: 0\n",
      "Iron: 0\n",
      "Diamond: 0\n",
      "Table: 0\n",
      "Furnace: 0\n",
      "Lava: 0\n",
      "Cow: 0\n",
      "Skeleton: 0\n",
      "Zombie: 0\n",
      "\n",
      "Inventory:\n",
      "Wood: 0\n",
      "Stone: 0\n",
      "Coal: 0\n",
      "Iron: 0\n",
      "Diamond: 0\n",
      "Sapphire: 0\n",
      "Wood Pixaxe: 0\n",
      "Iron Pixaxe: 0\n",
      "Wood Sword: 0\n",
      "Stone Sword: 0\n",
      "Iron Sword: 0\n",
      "Health: 9\n",
      "Food: 9\n",
      "Drink: 9\n",
      "Energy: 9\n",
      "Direction: up\n",
      "Light: 0.7969252467155457\n",
      "Is Sleeping: False\n",
      "\n"
     ]
    }
   ],
   "source": [
    "# this is all basically environment testing\n",
    "import jax\n",
    "from craftax.craftax_env import make_craftax_env_from_name\n",
    "rng = jax.random.PRNGKey(0)\n",
    "rng, _rng = jax.random.split(rng)\n",
    "rngs = jax.random.split(_rng, 3)\n",
    "\n",
    "# Create environment\n",
    "env = make_craftax_env_from_name(\"Craftax-Classic-Symbolic-v1\", auto_reset=True)\n",
    "env_params = env.default_params\n",
    "\n",
    "# Get an initial state and observation\n",
    "obs, state = env.reset(rngs[0], env_params)\n",
    "\n",
    "# Pick random action\n",
    "action = env.action_space(env_params).sample(rngs[1])\n",
    "from craftax_utilities import render_craftax_classic_text\n",
    "text_state = render_craftax_classic_text(state)\n",
    "print(text_state)"
   ]
  },
  {
   "cell_type": "code",
   "execution_count": 2,
   "metadata": {},
   "outputs": [
    {
     "name": "stderr",
     "output_type": "stream",
     "text": [
      "/root/miniconda3/envs/craftax/lib/python3.9/site-packages/jax/_src/numpy/array_methods.py:68: UserWarning: Explicitly requested dtype <class 'jax.numpy.int64'> requested in astype is not available, and will be truncated to dtype int32. To enable more dtypes, set the jax_enable_x64 configuration option or the JAX_ENABLE_X64 shell environment variable. See https://github.com/google/jax#current-gotchas for more.\n",
      "  return lax_numpy.astype(arr, dtype, copy=copy, device=device)\n"
     ]
    }
   ],
   "source": [
    "env_params = env.default_params\n",
    "action = env.action_space().sample(rngs[1])\n",
    "obs, state, reward, done, info = env.step(rngs[2], state, action, env_params)"
   ]
  },
  {
   "cell_type": "code",
   "execution_count": 4,
   "metadata": {},
   "outputs": [],
   "source": [
    "obs, state, reward, done, info = env.step(rngs[2], state, action, env_params)"
   ]
  },
  {
   "cell_type": "code",
   "execution_count": 5,
   "metadata": {},
   "outputs": [],
   "source": [
    "jit_step = jax.jit(env.step)"
   ]
  },
  {
   "cell_type": "code",
   "execution_count": null,
   "metadata": {},
   "outputs": [],
   "source": [
    "from tqdm import trange\n",
    "for i in trange(1000):\n",
    "    action = env.action_space().sample(rngs[1])\n",
    "    obs, state, reward, done, info = env.step(rngs[2], state, action, env_params)"
   ]
  },
  {
   "cell_type": "code",
   "execution_count": 5,
   "metadata": {},
   "outputs": [
    {
     "name": "stdout",
     "output_type": "stream",
     "text": [
      "9\n"
     ]
    }
   ],
   "source": [
    "print(action)"
   ]
  },
  {
   "cell_type": "code",
   "execution_count": 2,
   "metadata": {},
   "outputs": [
    {
     "name": "stdout",
     "output_type": "stream",
     "text": [
      "<class 'jaxlib.xla_extension.ArrayImpl'>\n"
     ]
    }
   ],
   "source": [
    "print(type(obs))"
   ]
  },
  {
   "cell_type": "code",
   "execution_count": 3,
   "metadata": {},
   "outputs": [
    {
     "name": "stdout",
     "output_type": "stream",
     "text": [
      "(1345,)\n"
     ]
    }
   ],
   "source": [
    "print(obs.shape)"
   ]
  }
 ],
 "metadata": {
  "kernelspec": {
   "display_name": "rl_manip_2",
   "language": "python",
   "name": "python3"
  },
  "language_info": {
   "codemirror_mode": {
    "name": "ipython",
    "version": 3
   },
   "file_extension": ".py",
   "mimetype": "text/x-python",
   "name": "python",
   "nbconvert_exporter": "python",
   "pygments_lexer": "ipython3",
   "version": "3.9.21"
  }
 },
 "nbformat": 4,
 "nbformat_minor": 2
}
